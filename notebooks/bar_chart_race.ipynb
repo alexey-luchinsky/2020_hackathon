{
 "cells": [
  {
   "cell_type": "code",
   "execution_count": null,
   "metadata": {},
   "outputs": [],
   "source": [
    "import bar_chart_race as bcr"
   ]
  },
  {
   "cell_type": "code",
   "execution_count": null,
   "metadata": {},
   "outputs": [],
   "source": [
    "import pandas as pd"
   ]
  },
  {
   "cell_type": "code",
   "execution_count": null,
   "metadata": {},
   "outputs": [],
   "source": [
    "import sys\n",
    "import warnings\n",
    "\n",
    "if not sys.warnoptions:\n",
    "    warnings.simplefilter(\"ignore\")"
   ]
  },
  {
   "cell_type": "code",
   "execution_count": null,
   "metadata": {},
   "outputs": [],
   "source": [
    "texasCasesDataURL = \"https://dshs.texas.gov/coronavirus/TexasCOVID19DailyCountyCaseCountData.xlsx\"\n",
    "casesDf = pd.read_excel(texasCasesDataURL, skiprows=2, skipfooter=11)\n",
    "\n",
    "casesDf = casesDf.set_index(\"County Name\")\n",
    "\n",
    "casesDf.columns = [c.split(' ')[-1] for c in casesDf.columns]\n",
    "\n",
    "for c in casesDf.columns:\n",
    "    casesDf[c] = casesDf[c]/casesDf[c].sum()\n",
    "    \n",
    "casesDf_tranposed = casesDf.transpose()\n",
    "\n",
    "casesDf_tranposed"
   ]
  },
  {
   "cell_type": "code",
   "execution_count": null,
   "metadata": {},
   "outputs": [],
   "source": [
    "df_slice = casesDf_tranposed.iloc[2:len(casesDf_tranposed):3]\n",
    "df_slice"
   ]
  },
  {
   "cell_type": "code",
   "execution_count": null,
   "metadata": {},
   "outputs": [],
   "source": [
    "bcr.bar_chart_race(\n",
    "    df=df_slice,\n",
    "    filename=\"bcr_texas.mp4\",\n",
    "    orientation='h',\n",
    "    sort='desc',\n",
    "    n_bars=10,\n",
    "    fixed_order=False,\n",
    "    fixed_max=True,\n",
    "    steps_per_period=10,\n",
    "    interpolate_period=False,\n",
    "    label_bars=True,\n",
    "    bar_size=.95,\n",
    "    period_label={'x': .99, 'y': .25, 'ha': 'right', 'va': 'center'},\n",
    "    period_fmt='%B %d, %Y',\n",
    "    period_summary_func=lambda v, r: {'x': .99, 'y': .18,\n",
    "                                      's': f'Total deaths: {v.nlargest(6).sum():,.0f}',\n",
    "                                      'ha': 'right', 'size': 8, 'family': 'Courier New'},\n",
    "    perpendicular_bar_func='median',\n",
    "    period_length=500,\n",
    "    figsize=(5, 3),\n",
    "    dpi=144,\n",
    "    cmap='dark12',\n",
    "    title='Percentage of COVID-19 Cases in Texax by Couty',\n",
    "    title_size='',\n",
    "    bar_label_size=7,\n",
    "    tick_label_size=7,\n",
    "    scale='linear',\n",
    "    writer=None,\n",
    "    fig=None,\n",
    "    bar_kwargs={'alpha': .7},\n",
    "    filter_column_colors=False)"
   ]
  },
  {
   "cell_type": "code",
   "execution_count": null,
   "metadata": {},
   "outputs": [],
   "source": []
  }
 ],
 "metadata": {
  "kernelspec": {
   "display_name": "Python 3",
   "language": "python",
   "name": "python3"
  },
  "language_info": {
   "codemirror_mode": {
    "name": "ipython",
    "version": 3
   },
   "file_extension": ".py",
   "mimetype": "text/x-python",
   "name": "python",
   "nbconvert_exporter": "python",
   "pygments_lexer": "ipython3",
   "version": "3.8.5"
  }
 },
 "nbformat": 4,
 "nbformat_minor": 4
}
