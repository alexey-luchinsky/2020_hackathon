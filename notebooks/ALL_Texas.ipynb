{
 "cells": [
  {
   "cell_type": "code",
   "execution_count": null,
   "metadata": {},
   "outputs": [],
   "source": [
    "import pandas as pd\n",
    "import numpy as np\n",
    "\n",
    "import matplotlib.pyplot as plt"
   ]
  },
  {
   "cell_type": "code",
   "execution_count": null,
   "metadata": {},
   "outputs": [],
   "source": [
    "texasCasesDataURL = \"https://dshs.texas.gov/coronavirus/TexasCOVID19DailyCountyCaseCountData.xlsx\"\n",
    "texasDeathsDataURL = \"https://dshs.texas.gov/coronavirus/TexasCOVID19DailyCountyFatalityCountData.xlsx\"\n",
    "texasTestingLegacyDataUrl = \"https://dshs.texas.gov/coronavirus/TexasCOVID-19CumulativeTestsOverTimebyCounty.xlsx\"\n",
    "texasTestingDataUrl = \"https://dshs.texas.gov/coronavirus/TexasCOVID-19CumulativeTestsbyCounty.xlsx\""
   ]
  },
  {
   "cell_type": "code",
   "execution_count": null,
   "metadata": {},
   "outputs": [],
   "source": [
    "casesDf = pd.read_excel(texasCasesDataURL, skiprows=2, skipfooter=11)\n",
    "deathsDf = pd.read_excel(texasDeathsDataURL, skiprows=2, skipfooter=2)\n",
    "legacytestsDf = pd.read_excel(texasTestingLegacyDataUrl, skiprows=1, skipfooter=11)\n",
    "testscasesDf = pd.read_excel(texasTestingDataUrl, skiprows=1, skipfooter=3)"
   ]
  },
  {
   "cell_type": "code",
   "execution_count": null,
   "metadata": {},
   "outputs": [],
   "source": [
    "deathsDf['County Name'] = deathsDf['County Name'].str.capitalize()\n",
    "deathsDf.rename(columns={'County Name' : 'County'}, inplace = True)"
   ]
  },
  {
   "cell_type": "code",
   "execution_count": null,
   "metadata": {},
   "outputs": [],
   "source": [
    "legacytestsDf.rename(columns = {'Tests Through May 5*':'Tests Through May 5'}, inplace = True)\n",
    "legacytestsDf['Tests Through May 5'] = legacytestsDf['Tests Through May 4']"
   ]
  },
  {
   "cell_type": "code",
   "execution_count": null,
   "metadata": {},
   "outputs": [],
   "source": [
    "dfCasesMelted = casesDf.melt(id_vars='County Name', var_name='Date', value_name='Cases')\n",
    "dfCasesMelted.rename(columns={'County Name' : 'County'}, inplace = True)\n",
    "dfCasesMelted['Date'] = pd.to_datetime( \\\n",
    "    dfCasesMelted['Date'].apply(lambda x: \" \".join(x.split(' ')[-1:]) + ' 2020'))\n",
    "dfCasesMelted['Date'] = dfCasesMelted['Date'].dt.strftime('%m-%d')\n",
    "\n",
    "dfCasesMeltedGrouped = dfCasesMelted.groupby(['County', 'Date']).sum()"
   ]
  },
  {
   "cell_type": "code",
   "execution_count": null,
   "metadata": {},
   "outputs": [],
   "source": [
    "dfDeathsMelted = deathsDf.melt(id_vars='County', var_name='Date', value_name='Deaths')\n",
    "\n",
    "dfDeathsMelted['Date'] = dfDeathsMelted['Date'].apply(lambda x: x.split(' ')[-1])\n",
    "\n",
    "dfDeathsMeltedGrouped = dfDeathsMelted.groupby(['County', 'Date']).sum()"
   ]
  },
  {
   "cell_type": "code",
   "execution_count": null,
   "metadata": {},
   "outputs": [],
   "source": [
    "legacytestsDfMelted = legacytestsDf.melt(id_vars='County', var_name='Date', value_name='Tests')\n",
    "legacytestsDfMelted['Date'] = pd.to_datetime( \\\n",
    "    legacytestsDfMelted['Date'].apply(lambda x: \" \".join(x.split(' ')[-2:]) + ' 2020'))\n",
    "legacytestsDfMelted['Date'] = legacytestsDfMelted['Date'].dt.strftime('%m-%d')\n",
    "legacytestsDfMelted"
   ]
  },
  {
   "cell_type": "code",
   "execution_count": null,
   "metadata": {},
   "outputs": [],
   "source": [
    "legacytestsDfMeltedGrouped = legacytestsDfMelted.groupby(['County', 'Date']).sum()"
   ]
  },
  {
   "cell_type": "code",
   "execution_count": null,
   "metadata": {},
   "outputs": [],
   "source": [
    "testscasesDfMelted = testscasesDf.melt(id_vars='County', var_name='Date', value_name='Tests')\n",
    "testscasesDfMelted['Date'] = testscasesDfMelted['Date'].dt.strftime('%m-%d')\n",
    "testscasesDfMelted"
   ]
  },
  {
   "cell_type": "code",
   "execution_count": null,
   "metadata": {},
   "outputs": [],
   "source": [
    "allMerged = dfCasesMeltedGrouped.copy()\n",
    "allMerged[\"Deaths\"] = dfDeathsMeltedGrouped[\"Deaths\"]\n",
    "allMerged[\"Tests\"] = legacytestsDfMeltedGrouped[\"Tests\"]\n",
    "allMerged.dropna()"
   ]
  },
  {
   "cell_type": "code",
   "execution_count": null,
   "metadata": {},
   "outputs": [],
   "source": [
    "dfDeathsMeltedGrouped"
   ]
  },
  {
   "cell_type": "code",
   "execution_count": null,
   "metadata": {
    "scrolled": true
   },
   "outputs": [],
   "source": [
    "testscasesDfMeltedGrouped = testscasesDfMelted.groupby(['County', 'Date']).sum().reset_index()"
   ]
  },
  {
   "cell_type": "code",
   "execution_count": null,
   "metadata": {},
   "outputs": [],
   "source": [
    "testscasesDfMerged = pd.concat([legacytestsDfMeltedGrouped, testscasesDfMeltedGrouped])"
   ]
  },
  {
   "cell_type": "code",
   "execution_count": null,
   "metadata": {},
   "outputs": [],
   "source": [
    "testscasesDfMerged[\"Date\"].unique()"
   ]
  },
  {
   "cell_type": "code",
   "execution_count": null,
   "metadata": {},
   "outputs": [],
   "source": [
    "dfCasesMeltedGrouped"
   ]
  },
  {
   "cell_type": "code",
   "execution_count": null,
   "metadata": {},
   "outputs": [],
   "source": [
    "dfDeathsMeltedGrouped"
   ]
  },
  {
   "cell_type": "code",
   "execution_count": null,
   "metadata": {},
   "outputs": [],
   "source": [
    "tests_df = testscasesDfMeltedGrouped.set_index([\"County\",\"Date\"])\n",
    "cases_df = dfCasesMeltedGrouped"
   ]
  },
  {
   "cell_type": "code",
   "execution_count": null,
   "metadata": {},
   "outputs": [],
   "source": [
    "dfCasesMeltedGrouped"
   ]
  },
  {
   "cell_type": "code",
   "execution_count": null,
   "metadata": {},
   "outputs": [],
   "source": [
    "all_merged = dfCasesMeltedGroupeda.copy()\n",
    "all_merged[\"Deaths\"] = dfDeathsMeltedGrouped[\"Deaths\"]\n",
    "all_merged[\"Tests\"] = testscasesDfMeltedGrouped[\"Tests\"]"
   ]
  },
  {
   "cell_type": "code",
   "execution_count": null,
   "metadata": {},
   "outputs": [],
   "source": [
    "all_merged.dropna()"
   ]
  },
  {
   "cell_type": "code",
   "execution_count": null,
   "metadata": {},
   "outputs": [],
   "source": [
    "cases_df[\"Tests\"] = tests_df[\"Tests\"]\n",
    "cases_df[\"Deaths\"] = dfDeathsMeltedGrouped[\"Deaths\"]"
   ]
  },
  {
   "cell_type": "code",
   "execution_count": null,
   "metadata": {},
   "outputs": [],
   "source": [
    "cases_df.dropna()"
   ]
  },
  {
   "cell_type": "code",
   "execution_count": null,
   "metadata": {},
   "outputs": [],
   "source": [
    "allMerged = pd.concat([testscasesDfMerged, dfCasesMeltedGrouped], axis=1)\n",
    "allMerged\n"
   ]
  },
  {
   "cell_type": "code",
   "execution_count": null,
   "metadata": {},
   "outputs": [],
   "source": [
    "testscasesDfMerged.head(10)"
   ]
  },
  {
   "cell_type": "code",
   "execution_count": null,
   "metadata": {},
   "outputs": [],
   "source": [
    "dfCasesMeltedGrouped.head(10)"
   ]
  },
  {
   "cell_type": "code",
   "execution_count": null,
   "metadata": {},
   "outputs": [],
   "source": [
    "dfDeathsMeltedGrouped.head(10)"
   ]
  },
  {
   "cell_type": "code",
   "execution_count": null,
   "metadata": {},
   "outputs": [],
   "source": []
  }
 ],
 "metadata": {
  "kernelspec": {
   "display_name": "Python 3",
   "language": "python",
   "name": "python3"
  },
  "language_info": {
   "codemirror_mode": {
    "name": "ipython",
    "version": 3
   },
   "file_extension": ".py",
   "mimetype": "text/x-python",
   "name": "python",
   "nbconvert_exporter": "python",
   "pygments_lexer": "ipython3",
   "version": "3.8.5"
  }
 },
 "nbformat": 4,
 "nbformat_minor": 4
}
